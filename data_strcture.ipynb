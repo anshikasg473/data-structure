{
  "cells": [
    {
      "cell_type": "markdown",
      "metadata": {
        "id": "T3mrsKsmBAZ0"
      },
      "source": [
        "\n",
        "\n",
        "# Theory question\n",
        "\n"
      ]
    },
    {
      "cell_type": "markdown",
      "metadata": {
        "id": "lcrUgQIzHCBG"
      },
      "source": [
        "**1.What are data structures, and why are they important.**"
      ]
    },
    {
      "cell_type": "markdown",
      "metadata": {
        "id": "-kjseHfqFHhH"
      },
      "source": [
        "ans:  data structure is format that use to store,oraganize the collection of data.\n",
        "it is important to  manage the information of different characterstics.\n",
        "it conserve memory space.\n",
        "it optimize and manipulate data efficiently\n",
        "it is good in accessing and sorting data"
      ]
    },
    {
      "cell_type": "markdown",
      "metadata": {
        "id": "mpXuauwbHMxu"
      },
      "source": [
        "**2.Explain the difference between mutable and immutable data types with examples.**"
      ]
    },
    {
      "cell_type": "markdown",
      "metadata": {
        "id": "vwqzyeolKnhh"
      },
      "source": [
        "ans:  mutable data types are those whose elements can be changed eg.list\n"
      ]
    },
    {
      "cell_type": "code",
      "execution_count": null,
      "metadata": {
        "colab": {
          "base_uri": "https://localhost:8080/"
        },
        "id": "AwlxM4wwLDcN",
        "outputId": "d5629ca1-befe-4176-e05e-241e4c5c4e08"
      },
      "outputs": [
        {
          "data": {
            "text/plain": [
              "[1, 2, 5, 4]"
            ]
          },
          "execution_count": 1,
          "metadata": {},
          "output_type": "execute_result"
        }
      ],
      "source": [
        "list1=[1,2,3,4]\n",
        "list1[2]=5#in square bracket ,index is there referring to that element that you want to change\n",
        "list1"
      ]
    },
    {
      "cell_type": "markdown",
      "metadata": {
        "id": "kTX_HjkiLjhK"
      },
      "source": [
        "immumtable data types are those which are are once created but element can't be changed through operations\n",
        "ex: tuples are immutable data types\n",
        "it provides a secure way to store data that shouldn't be modified\n",
        "\n"
      ]
    },
    {
      "cell_type": "code",
      "execution_count": null,
      "metadata": {
        "colab": {
          "base_uri": "https://localhost:8080/",
          "height": 176
        },
        "id": "II-npd8vLjGr",
        "outputId": "f83b670d-be64-4202-bac3-8492be2302fb"
      },
      "outputs": [
        {
          "ename": "TypeError",
          "evalue": "'tuple' object does not support item assignment",
          "output_type": "error",
          "traceback": [
            "\u001b[0;31m---------------------------------------------------------------------------\u001b[0m",
            "\u001b[0;31mTypeError\u001b[0m                                 Traceback (most recent call last)",
            "\u001b[0;32m<ipython-input-2-dfd0678f43a6>\u001b[0m in \u001b[0;36m<cell line: 0>\u001b[0;34m()\u001b[0m\n\u001b[1;32m      1\u001b[0m \u001b[0mmy_tuple\u001b[0m\u001b[0;34m=\u001b[0m\u001b[0;34m(\u001b[0m\u001b[0;36m1\u001b[0m\u001b[0;34m,\u001b[0m\u001b[0;36m2\u001b[0m\u001b[0;34m,\u001b[0m\u001b[0;36m3\u001b[0m\u001b[0;34m,\u001b[0m\u001b[0;36m4\u001b[0m\u001b[0;34m)\u001b[0m\u001b[0;34m\u001b[0m\u001b[0;34m\u001b[0m\u001b[0m\n\u001b[0;32m----> 2\u001b[0;31m \u001b[0mmy_tuple\u001b[0m\u001b[0;34m[\u001b[0m\u001b[0;36m2\u001b[0m\u001b[0;34m]\u001b[0m\u001b[0;34m=\u001b[0m\u001b[0;36m5\u001b[0m\u001b[0;34m\u001b[0m\u001b[0;34m\u001b[0m\u001b[0m\n\u001b[0m\u001b[1;32m      3\u001b[0m \u001b[0mmy_tuple\u001b[0m\u001b[0;34m\u001b[0m\u001b[0;34m\u001b[0m\u001b[0m\n",
            "\u001b[0;31mTypeError\u001b[0m: 'tuple' object does not support item assignment"
          ]
        }
      ],
      "source": [
        "my_tuple=(1,2,3,4)\n",
        "my_tuple[2]=5\n",
        "my_tuple  # it will throw an error because  tuples are immutable"
      ]
    },
    {
      "cell_type": "markdown",
      "metadata": {
        "id": "BLGf74g2M7pI"
      },
      "source": [
        "**3. What are the main differences between lists and tuples in Python**"
      ]
    },
    {
      "cell_type": "markdown",
      "metadata": {
        "id": "rOZ3WYgpOOIs"
      },
      "source": [
        "ans: list is immutable data type\n",
        "it is ordered collection of data.\n",
        " we can  add ,remove or modify elements using indexing and slicing\n"
      ]
    },
    {
      "cell_type": "code",
      "execution_count": 6,
      "metadata": {
        "colab": {
          "base_uri": "https://localhost:8080/"
        },
        "id": "z64JtdpgctjI",
        "outputId": "86d94637-b9e7-4dc4-aed0-0b70318995ba"
      },
      "outputs": [
        {
          "data": {
            "text/plain": [
              "[45, 50, 56, 55, 48]"
            ]
          },
          "execution_count": 6,
          "metadata": {},
          "output_type": "execute_result"
        }
      ],
      "source": [
        "student_marks=[45,50,56,55,78]# if we want to change 78 to 48\n",
        "student_marks[4]=48#4 is the index of 78\n",
        "student_marks"
      ]
    },
    {
      "cell_type": "markdown",
      "metadata": {
        "id": "rkk4g6dMHHHD"
      },
      "source": [
        "**4.Describe how dictionaries store data.**"
      ]
    },
    {
      "cell_type": "markdown",
      "metadata": {
        "id": "0EsJBNA8YpWt"
      },
      "source": [
        "ans: dictionaries carries the data in key value pair\n",
        "keys are used as index ,if we want to access the data.\n",
        "keys can be of various types (strings,float,integers) but keys can't be special character\n",
        "it contains data or it is defined by '{}'(curly braces)"
      ]
    },
    {
      "cell_type": "code",
      "execution_count": 5,
      "metadata": {
        "colab": {
          "base_uri": "https://localhost:8080/"
        },
        "id": "BHl4jqAgZMml",
        "outputId": "75893b46-5139-4bd5-f047-8aa431267c45"
      },
      "outputs": [
        {
          "data": {
            "text/plain": [
              "{'name': 'sakshi'}"
            ]
          },
          "execution_count": 5,
          "metadata": {},
          "output_type": "execute_result"
        }
      ],
      "source": [
        "d={\"name\":\"anshika\"}#here name is the key and anshika is the value\n",
        "d[\"name\"]=\"sakshi\"#WE CAn perform item assignment in dictionary\n",
        "d"
      ]
    },
    {
      "cell_type": "markdown",
      "metadata": {
        "id": "sgKVl14mHX_Y"
      },
      "source": [
        "**5.Why might you use a set instead of a list in Python.**"
      ]
    },
    {
      "cell_type": "markdown",
      "metadata": {
        "id": "jMQefsgydkfC"
      },
      "source": [
        "set is unordered collection of data ,it does not allows duplicate values .\n",
        "list allow duplicate entries ."
      ]
    },
    {
      "cell_type": "code",
      "execution_count": 7,
      "metadata": {
        "colab": {
          "base_uri": "https://localhost:8080/"
        },
        "id": "VjB2fAijeO3L",
        "outputId": "22bdbb01-5261-4fdc-f0c3-42a889054179"
      },
      "outputs": [
        {
          "name": "stdout",
          "output_type": "stream",
          "text": [
            "[1, 2, 2, 2, 5, 6, 3]\n",
            "{1, 2, 3, 5, 6}\n"
          ]
        }
      ],
      "source": [
        "list1=[1,2,2,2,5,6,3]\n",
        "set1={1,2,2,2,5,6,3}\n",
        "print(list1)\n",
        "print(set1)"
      ]
    },
    {
      "cell_type": "markdown",
      "metadata": {
        "id": "ACWcORbTHjfr"
      },
      "source": [
        "**6.What is a string in Python, and how is it different from a list.**"
      ]
    },
    {
      "cell_type": "markdown",
      "metadata": {
        "id": "eReiEQpUejeB"
      },
      "source": [
        "ans: A string is a sequence of characters, typically used to represent text.\n",
        "text always contained in the  \n",
        "between quotation marks (\"text\")\n",
        "string is immutable\n",
        "\n"
      ]
    },
    {
      "cell_type": "code",
      "execution_count": 10,
      "metadata": {
        "colab": {
          "base_uri": "https://localhost:8080/"
        },
        "id": "x5tAo9MbgBPL",
        "outputId": "6daef128-36ae-475e-cadf-3781380415d8"
      },
      "outputs": [
        {
          "name": "stdout",
          "output_type": "stream",
          "text": [
            "('akshu', 'saku')\n"
          ]
        }
      ],
      "source": [
        "str1=\"akshu\",\"saku\"\n",
        "print(str1)\n"
      ]
    },
    {
      "cell_type": "code",
      "execution_count": 11,
      "metadata": {
        "colab": {
          "base_uri": "https://localhost:8080/",
          "height": 158
        },
        "id": "hx_pq253eh3u",
        "outputId": "4ce496d8-99c4-4672-a9d7-5bbe9485db54"
      },
      "outputs": [
        {
          "ename": "TypeError",
          "evalue": "'tuple' object does not support item assignment",
          "output_type": "error",
          "traceback": [
            "\u001b[0;31m---------------------------------------------------------------------------\u001b[0m",
            "\u001b[0;31mTypeError\u001b[0m                                 Traceback (most recent call last)",
            "\u001b[0;32m<ipython-input-11-a2467f642066>\u001b[0m in \u001b[0;36m<cell line: 0>\u001b[0;34m()\u001b[0m\n\u001b[0;32m----> 1\u001b[0;31m \u001b[0mstr1\u001b[0m\u001b[0;34m[\u001b[0m\u001b[0;36m0\u001b[0m\u001b[0;34m]\u001b[0m\u001b[0;34m=\u001b[0m\u001b[0;34m\"akansha\"\u001b[0m\u001b[0;34m\u001b[0m\u001b[0;34m\u001b[0m\u001b[0m\n\u001b[0m\u001b[1;32m      2\u001b[0m \u001b[0mstr1\u001b[0m\u001b[0;34m\u001b[0m\u001b[0;34m\u001b[0m\u001b[0m\n",
            "\u001b[0;31mTypeError\u001b[0m: 'tuple' object does not support item assignment"
          ]
        }
      ],
      "source": [
        "str1[0]=\"akansha\"#it will throw an error\n",
        "# string doesn't support item assignment\n",
        "str1"
      ]
    },
    {
      "cell_type": "markdown",
      "metadata": {
        "id": "_xspoX0oHqAX"
      },
      "source": [
        "**7.How do tuples ensure data integrity in Python.**"
      ]
    },
    {
      "cell_type": "markdown",
      "metadata": {
        "id": "0Je0cF0Yg3DQ"
      },
      "source": [
        "tuples are immutable and it doesn't support item assignment.\n",
        "we can access elements but we cannot modify the content.\n",
        "in this way it insure the integrity of data"
      ]
    },
    {
      "cell_type": "markdown",
      "metadata": {
        "id": "wDE_OaxCHz20"
      },
      "source": [
        "**8.What is a hash table, and how does it relate to dictionaries in Python**"
      ]
    },
    {
      "cell_type": "markdown",
      "metadata": {
        "id": "G2acF96NhisN"
      },
      "source": [
        "ans: hashtable is a data structure that allows you to store and retrieve data efficiently using key-value pair .\n",
        "n Python, dictionaries (dict) are implemented as hash tables. Here’s how they relate:\n",
        "\n",
        "Keys: In a Python dictionary, keys are hashed using a hash function.\n"
      ]
    },
    {
      "cell_type": "code",
      "execution_count": 12,
      "metadata": {
        "colab": {
          "base_uri": "https://localhost:8080/"
        },
        "id": "Z7FVzQhijVOZ",
        "outputId": "10ed63be-3802-4612-c80b-89fd0b7427bd"
      },
      "outputs": [
        {
          "name": "stdout",
          "output_type": "stream",
          "text": [
            "85\n",
            "Bob's grade: 90\n"
          ]
        }
      ],
      "source": [
        "# Creating a dictionary\n",
        "student_grades = {\n",
        "    \"Alice\": 85,\n",
        "    \"Bob\": 90,\n",
        "    \"Charlie\": 78\n",
        "}\n",
        "\n",
        "# Accessing a value\n",
        "print(student_grades[\"Alice\"])  # Output: 85\n",
        "\n",
        "# Adding a new key-value pair\n",
        "student_grades[\"David\"] = 92\n",
        "\n",
        "# Deleting a key-value pair\n",
        "del student_grades[\"Charlie\"]\n",
        "\n",
        "# Checking if a key exists\n",
        "if \"Bob\" in student_grades:\n",
        "    print(\"Bob's grade:\", student_grades[\"Bob\"])  # Output: Bob's grade: 90\n"
      ]
    },
    {
      "cell_type": "markdown",
      "metadata": {
        "id": "PoXDUGU9IDql"
      },
      "source": [
        "**9.Can lists contain different data types in Python.**"
      ]
    },
    {
      "cell_type": "markdown",
      "metadata": {
        "id": "NwSKGa4ZjaN7"
      },
      "source": [
        "yes,list can contain different data types e.g. strings, integers, tuples,float even other lists"
      ]
    },
    {
      "cell_type": "code",
      "execution_count": 13,
      "metadata": {
        "colab": {
          "base_uri": "https://localhost:8080/"
        },
        "id": "NbIH2l1hkAAN",
        "outputId": "b4b24a49-0a14-4017-c6e6-2191b34882f7"
      },
      "outputs": [
        {
          "data": {
            "text/plain": [
              "['anshika', 1, 1.2, True, [1, 2, 3], ('ansi', 1, 2, 1.2)]"
            ]
          },
          "execution_count": 13,
          "metadata": {},
          "output_type": "execute_result"
        }
      ],
      "source": [
        "a=[\"anshika\",1,1.2,True,[1,2,3],(\"ansi\",1,2,1.2)]\n",
        "a"
      ]
    },
    {
      "cell_type": "markdown",
      "metadata": {
        "id": "F2G_9r9sITkS"
      },
      "source": [
        "**10.Explain why strings are immutable in Python.**"
      ]
    },
    {
      "cell_type": "markdown",
      "metadata": {
        "id": "iSPProv3kzTA"
      },
      "source": [
        "Strings in Python are immutable to ensure safety, predictability, and allow optimizations like memory reuse and thread safety. This means once a string is created, it can't be changed."
      ]
    },
    {
      "cell_type": "markdown",
      "metadata": {
        "id": "oQ3rkHjEIVs7"
      },
      "source": [
        "**11.What advantages do dictionaries offer over lists for certain tasks.**"
      ]
    },
    {
      "cell_type": "markdown",
      "metadata": {
        "id": "ykHEBPd1lVTZ"
      },
      "source": [
        "Dictionaries offer fast lookups using unique keys, making them ideal for mapping data. For example, (code) allows quick access to user names using their IDs.\n"
      ]
    },
    {
      "cell_type": "code",
      "execution_count": 14,
      "metadata": {
        "colab": {
          "base_uri": "https://localhost:8080/",
          "height": 35
        },
        "id": "3s1P0cY_lZkf",
        "outputId": "84d0cfb2-d2f2-4b80-9e14-9dd555b241aa"
      },
      "outputs": [
        {
          "data": {
            "application/vnd.google.colaboratory.intrinsic+json": {
              "type": "string"
            },
            "text/plain": [
              "'John'"
            ]
          },
          "execution_count": 14,
          "metadata": {},
          "output_type": "execute_result"
        }
      ],
      "source": [
        "user_info = {\"ID123\": \"John\", \"ID124\": \"Doe\"}\n",
        "user_info[\"ID123\"]"
      ]
    },
    {
      "cell_type": "markdown",
      "metadata": {
        "id": "SBb5wzNflu-j"
      },
      "source": [
        "\n",
        "Lists maintain order and support indexing, making them great for sequences. For example,(code)allows access to items by position like `fruits[0]` for \"apple\"."
      ]
    },
    {
      "cell_type": "code",
      "execution_count": 15,
      "metadata": {
        "colab": {
          "base_uri": "https://localhost:8080/",
          "height": 35
        },
        "id": "vVRz8E_xl4qw",
        "outputId": "7fa784aa-fc58-4322-846c-8b4f852ed1fb"
      },
      "outputs": [
        {
          "data": {
            "application/vnd.google.colaboratory.intrinsic+json": {
              "type": "string"
            },
            "text/plain": [
              "'apple'"
            ]
          },
          "execution_count": 15,
          "metadata": {},
          "output_type": "execute_result"
        }
      ],
      "source": [
        "fruits = [\"apple\", \"banana\", \"cherry\"]\n",
        "fruits[0]"
      ]
    },
    {
      "cell_type": "markdown",
      "metadata": {
        "id": "XJZNaQbbIcd1"
      },
      "source": [
        "**12.Describe a scenario where using a tuple would be preferable over a list.**"
      ]
    },
    {
      "cell_type": "code",
      "execution_count": 16,
      "metadata": {
        "colab": {
          "base_uri": "https://localhost:8080/"
        },
        "id": "A22JINb3mXUW",
        "outputId": "bca549af-1c7d-4128-85bd-8cda96225aee"
      },
      "outputs": [
        {
          "name": "stdout",
          "output_type": "stream",
          "text": [
            "Latitude: 40.712776\n",
            "Longitude: -74.005974\n"
          ]
        }
      ],
      "source": [
        "# Using a tuple to store GPS coordinates\n",
        "coordinates = (40.712776, -74.005974)  # Tuple of latitude and longitude for New York City\n",
        "\n",
        "print(f\"Latitude: {coordinates[0]}\")\n",
        "print(f\"Longitude: {coordinates[1]}\")\n"
      ]
    },
    {
      "cell_type": "markdown",
      "metadata": {
        "id": "mzy2zawYmbMs"
      },
      "source": [
        "ans: since,tuple is immutable so it is better way to describe this type of data like ,coordinates\n",
        "instead of list which is  immutable,and can be changed easily"
      ]
    },
    {
      "cell_type": "markdown",
      "metadata": {
        "id": "CZualBSZIl9g"
      },
      "source": [
        "**13.How do sets handle duplicate values in Python.**"
      ]
    },
    {
      "cell_type": "markdown",
      "metadata": {
        "id": "UfZlGCqOnAAJ"
      },
      "source": [
        "ans: set only gives unique value and remove duplicate ones"
      ]
    },
    {
      "cell_type": "code",
      "execution_count": 18,
      "metadata": {
        "colab": {
          "base_uri": "https://localhost:8080/"
        },
        "id": "UHfzblMxnKLn",
        "outputId": "975f04a7-8191-468f-a1f1-38a38a4a2b1a"
      },
      "outputs": [
        {
          "data": {
            "text/plain": [
              "{1, 2, 3, 4, 4.5, 23, 66}"
            ]
          },
          "execution_count": 18,
          "metadata": {},
          "output_type": "execute_result"
        }
      ],
      "source": [
        "set1={1,2,3,3,4,23,4.5,66}\n",
        "set1"
      ]
    },
    {
      "cell_type": "markdown",
      "metadata": {
        "id": "dai3fmX4ItWs"
      },
      "source": [
        "**14.How does the “in” keyword work differently for lists and dictionaries.**"
      ]
    },
    {
      "cell_type": "markdown",
      "metadata": {
        "id": "7Z5tMR1xn3a1"
      },
      "source": [
        "ans: when we use list ,it checks if the elements present in the list\n"
      ]
    },
    {
      "cell_type": "code",
      "execution_count": 19,
      "metadata": {
        "colab": {
          "base_uri": "https://localhost:8080/"
        },
        "id": "dxDrgGCdoXQq",
        "outputId": "2eb0e574-c54e-4306-bd85-81fc7a080108"
      },
      "outputs": [
        {
          "data": {
            "text/plain": [
              "True"
            ]
          },
          "execution_count": 19,
          "metadata": {},
          "output_type": "execute_result"
        }
      ],
      "source": [
        "list_a=[\"anshika\",\"doctor\",1,23]\n",
        "\"anshika\" in list_a"
      ]
    },
    {
      "cell_type": "markdown",
      "metadata": {
        "id": "0_qc2EzHo1oY"
      },
      "source": [
        "but when we use 'in' in dictionary it tells if key is present in the dictonary   ,it doesn't tell about the value if we ask"
      ]
    },
    {
      "cell_type": "code",
      "execution_count": 20,
      "metadata": {
        "colab": {
          "base_uri": "https://localhost:8080/"
        },
        "id": "5UhMtZ_bpXiP",
        "outputId": "c859f175-d09e-470d-e11f-31d505ee7f15"
      },
      "outputs": [
        {
          "name": "stdout",
          "output_type": "stream",
          "text": [
            "True\n",
            "False\n"
          ]
        }
      ],
      "source": [
        "dict1={\"name\":\"anshika\",\"subject\":\"Music\"}\n",
        "print(\"name\" in dict1)\n",
        "print(\"anshika\" in dict1)#it will show anshika as a member false because it only tell about \"keys\""
      ]
    },
    {
      "cell_type": "markdown",
      "metadata": {
        "id": "J4WGPe8pI1DG"
      },
      "source": [
        "**15.Can you modify the elements of a tuple? Explain why or why not.**"
      ]
    },
    {
      "cell_type": "markdown",
      "metadata": {
        "id": "setTJulJrUrw"
      },
      "source": [
        "no,we can not modify the elements of a tuple, if we try to change it will throw an error\n",
        "but if we change first tuple into list then we can modify it and then we can again change it into tuple"
      ]
    },
    {
      "cell_type": "code",
      "execution_count": 21,
      "metadata": {
        "colab": {
          "base_uri": "https://localhost:8080/"
        },
        "id": "qo6sO3qwrxmZ",
        "outputId": "191a3bd5-4211-4ab2-cac8-068be8333c88"
      },
      "outputs": [
        {
          "name": "stdout",
          "output_type": "stream",
          "text": [
            "Original tuple: (1, 2, 3, 4, 5)\n",
            "Modified tuple: (1, 2, 99, 4, 5)\n"
          ]
        }
      ],
      "source": [
        "# Original tuple\n",
        "my_tuple = (1, 2, 3, 4, 5)\n",
        "\n",
        "# Convert tuple to list\n",
        "temp_list = list(my_tuple)\n",
        "\n",
        "# Modify the list\n",
        "temp_list[2] = 99\n",
        "\n",
        "# Convert list back to tuple\n",
        "modified_tuple = tuple(temp_list)\n",
        "\n",
        "print(\"Original tuple:\", my_tuple)\n",
        "print(\"Modified tuple:\", modified_tuple)\n"
      ]
    },
    {
      "cell_type": "markdown",
      "metadata": {
        "id": "5jeZDaakI5jN"
      },
      "source": [
        "**16.What is a nested dictionary, and give an example of its use case.**"
      ]
    },
    {
      "cell_type": "markdown",
      "metadata": {
        "id": "5AhjT0NIse53"
      },
      "source": [
        "it is dictionary within dictionary\n",
        "it contains multilevel of info."
      ]
    },
    {
      "cell_type": "code",
      "execution_count": 24,
      "metadata": {
        "colab": {
          "base_uri": "https://localhost:8080/"
        },
        "id": "Uni3wDeLs4Pj",
        "outputId": "fc138a01-4f37-4c06-d5a5-f4c08a29aa65"
      },
      "outputs": [
        {
          "name": "stdout",
          "output_type": "stream",
          "text": [
            "10\n",
            "50\n",
            "45\n"
          ]
        }
      ],
      "source": [
        "\n",
        "store = {\n",
        "    \"Electronics\": {\n",
        "        \"Laptop\": 10,\n",
        "        \"Mobile\": 20\n",
        "    },\n",
        "    \"Clothing\": {\n",
        "        \"Jeans\": 50,\n",
        "        \"T-Shirts\": 100\n",
        "    },\n",
        "    \"Groceries\": {\n",
        "        \"Apples\": 30,\n",
        "        \"Bananas\": 45\n",
        "    }\n",
        "}\n",
        "\n",
        "\n",
        "print(store[\"Electronics\"][\"Laptop\"])\n",
        "print(store[\"Clothing\"][\"Jeans\"])\n",
        "print(store[\"Groceries\"][\"Bananas\"])\n"
      ]
    },
    {
      "cell_type": "markdown",
      "metadata": {
        "id": "By8jjHwTJAoD"
      },
      "source": [
        "**17.Describe the time complexity of accessing elements in a dictionary.**"
      ]
    },
    {
      "cell_type": "markdown",
      "metadata": {
        "id": "tP3PazjL-bDq"
      },
      "source": [
        " ans: i don't know\n"
      ]
    },
    {
      "cell_type": "markdown",
      "metadata": {
        "id": "ScECYe9qJIXg"
      },
      "source": [
        "**18.In what situations are lists preferred over dictionaries.**"
      ]
    },
    {
      "cell_type": "markdown",
      "metadata": {
        "id": "F0WGP3Bi_AL8"
      },
      "source": [
        "we use when we need ordered data with indexed access and simple iteration. we Opt for dictionaries when you need key-value pairs for quick lookups and storing heterogeneous data."
      ]
    },
    {
      "cell_type": "markdown",
      "metadata": {
        "id": "XwNVyYLoJRiE"
      },
      "source": [
        "**19.Why are dictionaries considered unordered, and how does that affect data retrieval.**"
      ]
    },
    {
      "cell_type": "markdown",
      "metadata": {
        "id": "STHqpNcm_QSL"
      },
      "source": [
        "ans: Dictionaries are considered unordered because they store key-value pairs without any specific sequence, which means the order of items can change. This unordered nature allows for faster data retrieval by using keys, without relying on position or order.so,it affect data retrieval in positive way."
      ]
    },
    {
      "cell_type": "markdown",
      "metadata": {
        "id": "QXDAWnyeGsjE"
      },
      "source": [
        "**20.Explain the difference between a list and a dictionary in terms of data retrieval**"
      ]
    },
    {
      "cell_type": "markdown",
      "metadata": {
        "id": "hmiVLFe7_zIk"
      },
      "source": [
        "when we want to retreive data from list we use index\n",
        "but when we retrieve data from the dicrionary we use index of that particular data."
      ]
    },
    {
      "cell_type": "code",
      "execution_count": 25,
      "metadata": {
        "colab": {
          "base_uri": "https://localhost:8080/",
          "height": 35
        },
        "id": "JvRl7RUOANs7",
        "outputId": "48d77d7a-d9f8-4424-a710-430424fd681d"
      },
      "outputs": [
        {
          "data": {
            "application/vnd.google.colaboratory.intrinsic+json": {
              "type": "string"
            },
            "text/plain": [
              "'anshu'"
            ]
          },
          "execution_count": 25,
          "metadata": {},
          "output_type": "execute_result"
        }
      ],
      "source": [
        "list_a=[\"ansi\",\"anshu\",\"anshika\"]\n",
        "list_a[1] #when i want to retrieve anshu we use index=2\n"
      ]
    },
    {
      "cell_type": "code",
      "execution_count": 27,
      "metadata": {
        "colab": {
          "base_uri": "https://localhost:8080/",
          "height": 35
        },
        "id": "5BDmlOfkAkun",
        "outputId": "63d5e75a-eea6-4333-c70c-0f7b9b3b8474"
      },
      "outputs": [
        {
          "data": {
            "application/vnd.google.colaboratory.intrinsic+json": {
              "type": "string"
            },
            "text/plain": [
              "'anshika'"
            ]
          },
          "execution_count": 27,
          "metadata": {},
          "output_type": "execute_result"
        }
      ],
      "source": [
        "dict_A={\"name\":\"anshika\",\"nick-name\":\"ansi\",\"2-nick-name\":\"anshu\"}\n",
        "dict_A[\"name\"]# in dictionaries we don't have to look for place we just put key inplace of index and get the value"
      ]
    },
    {
      "cell_type": "markdown",
      "metadata": {
        "id": "qx-eOjsUKYDS"
      },
      "source": []
    },
    {
      "cell_type": "markdown",
      "metadata": {
        "id": "gNqVcKkZJFRD"
      },
      "source": [
        "# Practical questions"
      ]
    },
    {
      "cell_type": "markdown",
      "metadata": {
        "id": "PNVubdFAe7S8"
      },
      "source": [
        "1. Write a code to create a string with your name and print it"
      ]
    },
    {
      "cell_type": "markdown",
      "metadata": {
        "id": "9GVLO0ASBONj"
      },
      "source": []
    },
    {
      "cell_type": "code",
      "execution_count": null,
      "metadata": {
        "colab": {
          "base_uri": "https://localhost:8080/"
        },
        "id": "jCQC64mRJQjK",
        "outputId": "6e0c2664-fe6e-490c-8ea3-e8290cf14d66"
      },
      "outputs": [
        {
          "name": "stdout",
          "output_type": "stream",
          "text": [
            "anshika\n"
          ]
        }
      ],
      "source": [
        "name=\"anshika\"\n",
        "print(name)"
      ]
    },
    {
      "cell_type": "markdown",
      "metadata": {
        "id": "xNiBYiIgfBa5"
      },
      "source": [
        "2.Write a code to find the length of the string \"Hello World\""
      ]
    },
    {
      "cell_type": "code",
      "execution_count": null,
      "metadata": {
        "colab": {
          "base_uri": "https://localhost:8080/"
        },
        "id": "txpVwVuuJqvF",
        "outputId": "1f12e780-2451-4dd8-d1b6-00b1bb0c11ec"
      },
      "outputs": [
        {
          "data": {
            "text/plain": [
              "11"
            ]
          },
          "execution_count": 13,
          "metadata": {},
          "output_type": "execute_result"
        }
      ],
      "source": [
        "s=\"hello world\"\n",
        "len(s)"
      ]
    },
    {
      "cell_type": "markdown",
      "metadata": {
        "id": "jQln9KmJfHOf"
      },
      "source": [
        "3.Write a code to slice the first 3 characters from the string \"Python Programming\"."
      ]
    },
    {
      "cell_type": "code",
      "execution_count": null,
      "metadata": {
        "colab": {
          "base_uri": "https://localhost:8080/"
        },
        "id": "YPjGhHmgd39t",
        "outputId": "6f52f32d-53a5-4b58-8f7c-aeb91f81de4c"
      },
      "outputs": [
        {
          "name": "stdout",
          "output_type": "stream",
          "text": [
            "hon programming\n"
          ]
        }
      ],
      "source": [
        "s1=\"python programming\"\n",
        "print(s1[3:])"
      ]
    },
    {
      "cell_type": "markdown",
      "metadata": {
        "id": "qXmr1lBDfPfv"
      },
      "source": [
        "4.Write a code to convert the string \"hello\" to uppercase."
      ]
    },
    {
      "cell_type": "code",
      "execution_count": null,
      "metadata": {
        "colab": {
          "base_uri": "https://localhost:8080/",
          "height": 35
        },
        "id": "1ssIQtG-9ih7",
        "outputId": "4847aeae-1097-431a-aa57-79d6af722a1a"
      },
      "outputs": [
        {
          "data": {
            "application/vnd.google.colaboratory.intrinsic+json": {
              "type": "string"
            },
            "text/plain": [
              "'hello'"
            ]
          },
          "execution_count": 24,
          "metadata": {},
          "output_type": "execute_result"
        }
      ],
      "source": [
        "a='hello'\n",
        "a"
      ]
    },
    {
      "cell_type": "code",
      "execution_count": null,
      "metadata": {
        "colab": {
          "base_uri": "https://localhost:8080/",
          "height": 35
        },
        "id": "HX3S5K-D9prw",
        "outputId": "a746e18d-bd91-427e-aae2-778c099bb934"
      },
      "outputs": [
        {
          "data": {
            "application/vnd.google.colaboratory.intrinsic+json": {
              "type": "string"
            },
            "text/plain": [
              "'HELLO'"
            ]
          },
          "execution_count": 26,
          "metadata": {},
          "output_type": "execute_result"
        }
      ],
      "source": [
        "a.upper()"
      ]
    },
    {
      "cell_type": "markdown",
      "metadata": {
        "id": "bUCuSO0z-hU6"
      },
      "source": [
        "5. Write a code to replace the word \"apple\" with \"orange\" in the string \"I like apple"
      ]
    },
    {
      "cell_type": "code",
      "execution_count": null,
      "metadata": {
        "colab": {
          "base_uri": "https://localhost:8080/",
          "height": 35
        },
        "id": "Qt9L0yKmfWmz",
        "outputId": "2161bba8-8f52-49eb-e06c-1692611436c9"
      },
      "outputs": [
        {
          "data": {
            "application/vnd.google.colaboratory.intrinsic+json": {
              "type": "string"
            },
            "text/plain": [
              "'i like apple'"
            ]
          },
          "execution_count": 21,
          "metadata": {},
          "output_type": "execute_result"
        }
      ],
      "source": [
        "string1='i like apple'\n",
        "string1"
      ]
    },
    {
      "cell_type": "code",
      "execution_count": null,
      "metadata": {
        "colab": {
          "base_uri": "https://localhost:8080/",
          "height": 35
        },
        "id": "1rPhQX5G9N5a",
        "outputId": "6600cf8f-1de1-4424-f39f-5efffac8c98c"
      },
      "outputs": [
        {
          "data": {
            "application/vnd.google.colaboratory.intrinsic+json": {
              "type": "string"
            },
            "text/plain": [
              "'i like orange'"
            ]
          },
          "execution_count": 23,
          "metadata": {},
          "output_type": "execute_result"
        }
      ],
      "source": [
        "string1.replace('apple','orange')"
      ]
    },
    {
      "cell_type": "markdown",
      "metadata": {
        "id": "PDW4tDW8-nDC"
      },
      "source": [
        "6. Write a code to create a list with numbers 1 to 5 and print it."
      ]
    },
    {
      "cell_type": "code",
      "execution_count": null,
      "metadata": {
        "colab": {
          "base_uri": "https://localhost:8080/"
        },
        "id": "5aemlpFE9dDo",
        "outputId": "803fca21-a5ad-471f-a7b4-683ae49b3b09"
      },
      "outputs": [
        {
          "name": "stdout",
          "output_type": "stream",
          "text": [
            "[1, 2, 3, 4, 5]\n"
          ]
        }
      ],
      "source": [
        "l=[1,2,3,4,5]\n",
        "print(l)"
      ]
    },
    {
      "cell_type": "markdown",
      "metadata": {
        "id": "P3MUIgJxitOA"
      },
      "source": [
        "7. Write a code to append the number 10 to the list [1, 2, 3, 4]."
      ]
    },
    {
      "cell_type": "code",
      "execution_count": null,
      "metadata": {
        "colab": {
          "base_uri": "https://localhost:8080/"
        },
        "id": "zroL-52JiruB",
        "outputId": "d0140001-c5f4-4336-cea5-5c0e457b2aad"
      },
      "outputs": [
        {
          "data": {
            "text/plain": [
              "[1, 2, 3, 4, 10]"
            ]
          },
          "execution_count": 5,
          "metadata": {},
          "output_type": "execute_result"
        }
      ],
      "source": [
        "list=[1,2,3,4]\n",
        "list.append(10)\n",
        "list"
      ]
    },
    {
      "cell_type": "markdown",
      "metadata": {
        "id": "0gCR75My6ju5"
      },
      "source": [
        "8. Write a code to remove the number 3 from the list [1, 2, 3, 4, 5]."
      ]
    },
    {
      "cell_type": "code",
      "execution_count": null,
      "metadata": {
        "colab": {
          "base_uri": "https://localhost:8080/"
        },
        "id": "clgerYTo6LhB",
        "outputId": "fe2e927f-11ca-454f-bcd0-745237f21e89"
      },
      "outputs": [
        {
          "data": {
            "text/plain": [
              "[1, 2, 4, 5]"
            ]
          },
          "execution_count": 6,
          "metadata": {},
          "output_type": "execute_result"
        }
      ],
      "source": [
        "list=[1,2,3,4,5]\n",
        "list.remove(3)\n",
        "list"
      ]
    },
    {
      "cell_type": "markdown",
      "metadata": {
        "id": "-AkJQgfX8DKc"
      },
      "source": [
        "9.Write a code to access the second element in the list ['a', 'b', 'c', 'd']."
      ]
    },
    {
      "cell_type": "code",
      "execution_count": null,
      "metadata": {
        "colab": {
          "base_uri": "https://localhost:8080/",
          "height": 35
        },
        "id": "ASMJaZP-8CN7",
        "outputId": "7a8f8df6-8bdb-4299-b376-62e160590843"
      },
      "outputs": [
        {
          "data": {
            "application/vnd.google.colaboratory.intrinsic+json": {
              "type": "string"
            },
            "text/plain": [
              "'b'"
            ]
          },
          "execution_count": 33,
          "metadata": {},
          "output_type": "execute_result"
        }
      ],
      "source": [
        "list=[\"a\",\"b\",\"c\",\"d\"]\n",
        "list[1]\n"
      ]
    },
    {
      "cell_type": "markdown",
      "metadata": {
        "id": "pa5zxXVX_uYa"
      },
      "source": [
        "10.write a code to reverse the list ['a','b','c','d']."
      ]
    },
    {
      "cell_type": "code",
      "execution_count": null,
      "metadata": {
        "colab": {
          "base_uri": "https://localhost:8080/"
        },
        "id": "8YJ46n6n67Bt",
        "outputId": "29303bfa-c4fc-4e62-95ad-8906d76577e8"
      },
      "outputs": [
        {
          "data": {
            "text/plain": [
              "[50, 40, 30, 20, 10]"
            ]
          },
          "execution_count": 26,
          "metadata": {},
          "output_type": "execute_result"
        }
      ],
      "source": [
        "list=[10,20,30,40,50]\n",
        "list.reverse()\n",
        "list"
      ]
    },
    {
      "cell_type": "markdown",
      "metadata": {
        "id": "ftGoY6zVAs4J"
      },
      "source": [
        "11. write a code to  create a tuple with the elements 10,20,30 and print it."
      ]
    },
    {
      "cell_type": "code",
      "execution_count": null,
      "metadata": {
        "colab": {
          "base_uri": "https://localhost:8080/"
        },
        "id": "PG3dSyLPAcIr",
        "outputId": "1161b945-8710-48ff-d0e9-37021fbf87f1"
      },
      "outputs": [
        {
          "name": "stdout",
          "output_type": "stream",
          "text": [
            "(10, 20, 30)\n"
          ]
        }
      ],
      "source": [
        "number=(10,20,30)\n",
        "print(number)\n"
      ]
    },
    {
      "cell_type": "markdown",
      "metadata": {
        "id": "Uf2N7tQWBbCf"
      },
      "source": [
        "12.write a code to access the first element of tuple ('apple',banana','cherry')."
      ]
    },
    {
      "cell_type": "code",
      "execution_count": null,
      "metadata": {
        "colab": {
          "base_uri": "https://localhost:8080/"
        },
        "id": "ZaMaKPmJBNoo",
        "outputId": "fafc3a19-f5b7-4db3-b31d-ca01b0304d06"
      },
      "outputs": [
        {
          "data": {
            "text/plain": [
              "('apple', 'banana', 'cherry')"
            ]
          },
          "execution_count": 1,
          "metadata": {},
          "output_type": "execute_result"
        }
      ],
      "source": [
        "fruits=('apple','banana','cherry')\n",
        "fruits"
      ]
    },
    {
      "cell_type": "code",
      "execution_count": null,
      "metadata": {
        "colab": {
          "base_uri": "https://localhost:8080/"
        },
        "id": "1yL4aFaQ6tZt",
        "outputId": "6ca67525-f67e-414c-8c27-bc6661512a5d"
      },
      "outputs": [
        {
          "data": {
            "text/plain": [
              "('apple',)"
            ]
          },
          "execution_count": 4,
          "metadata": {},
          "output_type": "execute_result"
        }
      ],
      "source": [
        "fruits[:1]"
      ]
    },
    {
      "cell_type": "markdown",
      "metadata": {
        "id": "XRh03eFa79wJ"
      },
      "source": [
        "13. write a code to count how many times 2 appears in tuples (1,2,3,2,4,2)."
      ]
    },
    {
      "cell_type": "code",
      "execution_count": null,
      "metadata": {
        "colab": {
          "base_uri": "https://localhost:8080/"
        },
        "id": "6zFh-VMv-kkI",
        "outputId": "68635b32-7c55-42b3-d9ab-e412058ded88"
      },
      "outputs": [
        {
          "data": {
            "text/plain": [
              "3"
            ]
          },
          "execution_count": 5,
          "metadata": {},
          "output_type": "execute_result"
        }
      ],
      "source": [
        "tuple1=(1,2,3,2,4,2)\n",
        "tuple1.count(2)"
      ]
    },
    {
      "cell_type": "markdown",
      "metadata": {
        "id": "aJikYKTg8u9t"
      },
      "source": [
        "14.. Write a code to find the index of the element \"cat\" in the tuple ('dog', 'cat', 'rabbit')."
      ]
    },
    {
      "cell_type": "code",
      "execution_count": null,
      "metadata": {
        "colab": {
          "base_uri": "https://localhost:8080/"
        },
        "id": "ykG4vmhC-3sM",
        "outputId": "a6f3e7da-f57a-448c-dfd4-b81c5de1ece5"
      },
      "outputs": [
        {
          "data": {
            "text/plain": [
              "1"
            ]
          },
          "execution_count": 6,
          "metadata": {},
          "output_type": "execute_result"
        }
      ],
      "source": [
        "animals=(\"dog\",\"cat\",\"rabbit\")\n",
        "animals.index(\"cat\")"
      ]
    },
    {
      "cell_type": "markdown",
      "metadata": {
        "id": "TLBxk2lR8v9j"
      },
      "source": [
        "15.Write a code to check if the element \"banana\" is in the tuple ('apple', 'orange', 'banana')"
      ]
    },
    {
      "cell_type": "code",
      "execution_count": null,
      "metadata": {
        "colab": {
          "base_uri": "https://localhost:8080/"
        },
        "id": "zBla9ggC_Lsm",
        "outputId": "a798089b-abf5-405b-af62-bb69509442ad"
      },
      "outputs": [
        {
          "data": {
            "text/plain": [
              "True"
            ]
          },
          "execution_count": 7,
          "metadata": {},
          "output_type": "execute_result"
        }
      ],
      "source": [
        "fal=('apple','orange','banana')\n",
        "'banana' in fal"
      ]
    },
    {
      "cell_type": "markdown",
      "metadata": {
        "id": "MBU6F6to8wnB"
      },
      "source": [
        " 16.Write a code to create a set with the elements 1, 2, 3, 4, 5 and print it."
      ]
    },
    {
      "cell_type": "code",
      "execution_count": null,
      "metadata": {
        "colab": {
          "base_uri": "https://localhost:8080/"
        },
        "id": "2HogQIUB_XP8",
        "outputId": "de178c61-36c2-45b6-d3b8-26bac81e9910"
      },
      "outputs": [
        {
          "name": "stdout",
          "output_type": "stream",
          "text": [
            "{1, 2, 3, 4, 5}\n"
          ]
        }
      ],
      "source": [
        "set1={1,2,3,4,5}\n",
        "print(set1)"
      ]
    },
    {
      "cell_type": "markdown",
      "metadata": {
        "id": "8HuIxxii8xLE"
      },
      "source": [
        "  17.Write a code to add the element 6 to the set {1, 2, 3, 4}."
      ]
    },
    {
      "cell_type": "code",
      "execution_count": null,
      "metadata": {
        "colab": {
          "base_uri": "https://localhost:8080/"
        },
        "id": "odoV0UM1_hz2",
        "outputId": "d901e539-ed44-4a43-b6e6-1892206b542b"
      },
      "outputs": [
        {
          "data": {
            "text/plain": [
              "{1, 2, 3, 4, 6}"
            ]
          },
          "execution_count": 9,
          "metadata": {},
          "output_type": "execute_result"
        }
      ],
      "source": [
        "set2={1,2,3,4}\n",
        "set2.add(6)\n",
        "set2"
      ]
    },
    {
      "cell_type": "markdown",
      "metadata": {
        "id": "xsFra93U8zH1"
      },
      "source": [
        "18. Write a code to create a tuple with the elements 10, 20, 30 and print it.\n"
      ]
    },
    {
      "cell_type": "code",
      "execution_count": null,
      "metadata": {
        "colab": {
          "base_uri": "https://localhost:8080/"
        },
        "id": "DDA6rte2_tR8",
        "outputId": "67c88e2f-59cf-417c-cbc9-aeec70665821"
      },
      "outputs": [
        {
          "name": "stdout",
          "output_type": "stream",
          "text": [
            "(10, 20, 30)\n"
          ]
        }
      ],
      "source": [
        "tuple1=(10,20,30)\n",
        "print(tuple1)"
      ]
    },
    {
      "cell_type": "markdown",
      "metadata": {
        "id": "8gkA2VUC9xMF"
      },
      "source": [
        "\n",
        "19. Write a code to access the first element of the tuple ('apple', 'banana', 'cherry').\n",
        "\n"
      ]
    },
    {
      "cell_type": "code",
      "execution_count": null,
      "metadata": {
        "colab": {
          "base_uri": "https://localhost:8080/"
        },
        "id": "LAYsj03u_yad",
        "outputId": "03c8f157-813c-4b94-ef9d-b875ec528b06"
      },
      "outputs": [
        {
          "data": {
            "text/plain": [
              "('apple',)"
            ]
          },
          "execution_count": 11,
          "metadata": {},
          "output_type": "execute_result"
        }
      ],
      "source": [
        "fruit_list=('apple', 'banana', 'cherry')\n",
        "fruit_list[:1]"
      ]
    },
    {
      "cell_type": "markdown",
      "metadata": {
        "id": "er6yKOxE93_k"
      },
      "source": [
        "\n",
        "20. Write a code to count how many times the number 2 appears in the tuple (1, 2, 3, 2, 4, 2).\n",
        "\n",
        "\n"
      ]
    },
    {
      "cell_type": "code",
      "execution_count": null,
      "metadata": {
        "colab": {
          "base_uri": "https://localhost:8080/"
        },
        "id": "cvTWb86SAOti",
        "outputId": "eee92720-f8a2-4297-8219-dd071e586907"
      },
      "outputs": [
        {
          "data": {
            "text/plain": [
              "3"
            ]
          },
          "execution_count": 13,
          "metadata": {},
          "output_type": "execute_result"
        }
      ],
      "source": [
        "tuple_3=(1, 2, 3, 2, 4, 2)\n",
        "tuple_3.count(2)"
      ]
    },
    {
      "cell_type": "markdown",
      "metadata": {
        "id": "CVsiAkRm-Dlp"
      },
      "source": [
        "\n",
        "\n",
        "21. Write a code to find the index of the element \"cat\" in the tuple ('dog', 'cat', 'rabbit').\n",
        "\n"
      ]
    },
    {
      "cell_type": "code",
      "execution_count": null,
      "metadata": {
        "colab": {
          "base_uri": "https://localhost:8080/"
        },
        "id": "S_cAQApCAfeC",
        "outputId": "e8537d89-1890-422d-d111-3589e2492a44"
      },
      "outputs": [
        {
          "data": {
            "text/plain": [
              "1"
            ]
          },
          "execution_count": 14,
          "metadata": {},
          "output_type": "execute_result"
        }
      ],
      "source": [
        "animals=(\"dog\",\"cat\",\"rabbit\")\n",
        "animals.index(\"cat\")"
      ]
    },
    {
      "cell_type": "markdown",
      "metadata": {
        "id": "H_HJd3dd801V"
      },
      "source": [
        "22. Write a code to check if the element \"banana\" is in the tuple ('apple', 'orange', 'banana').\n",
        "\n",
        "\n"
      ]
    },
    {
      "cell_type": "code",
      "execution_count": null,
      "metadata": {
        "colab": {
          "base_uri": "https://localhost:8080/"
        },
        "id": "KznTUjpBAqCC",
        "outputId": "865d17ed-6777-41c8-e566-04d741f31a3c"
      },
      "outputs": [
        {
          "data": {
            "text/plain": [
              "True"
            ]
          },
          "execution_count": 15,
          "metadata": {},
          "output_type": "execute_result"
        }
      ],
      "source": [
        "fal=('apple','orange','banana')\n",
        "'banana' in fal"
      ]
    },
    {
      "cell_type": "markdown",
      "metadata": {
        "id": "V8Vv9f4R80Rq"
      },
      "source": [
        "23. Write a code to create a set with the elements 1, 2, 3, 4, 5 and print it.\n",
        "\n"
      ]
    },
    {
      "cell_type": "code",
      "execution_count": null,
      "metadata": {
        "colab": {
          "base_uri": "https://localhost:8080/"
        },
        "id": "WmuLBo0hAx8J",
        "outputId": "9992803f-0cb3-4803-f774-22c37e168c35"
      },
      "outputs": [
        {
          "name": "stdout",
          "output_type": "stream",
          "text": [
            "{1, 2, 3, 4, 5}\n"
          ]
        }
      ],
      "source": [
        "set1={1,2,3,4,5}\n",
        "print(set1)"
      ]
    },
    {
      "cell_type": "markdown",
      "metadata": {
        "id": "z_EhihqQ-PFy"
      },
      "source": [
        "24. Write a code to add the element 6 to the set {1, 2, 3, 4}."
      ]
    },
    {
      "cell_type": "code",
      "execution_count": null,
      "metadata": {
        "colab": {
          "base_uri": "https://localhost:8080/"
        },
        "id": "He4BE7TkA2hP",
        "outputId": "1c813e6f-4e63-4a8b-8932-e743545d830a"
      },
      "outputs": [
        {
          "data": {
            "text/plain": [
              "{1, 2, 3, 4, 6}"
            ]
          },
          "execution_count": 17,
          "metadata": {},
          "output_type": "execute_result"
        }
      ],
      "source": [
        "set2={1,2,3,4}\n",
        "set2.add(6)\n",
        "set2"
      ]
    },
    {
      "cell_type": "markdown",
      "metadata": {
        "id": "qc3fuYUD8zjz"
      },
      "source": []
    },
    {
      "cell_type": "code",
      "execution_count": null,
      "metadata": {
        "id": "eScophAs7FQs"
      },
      "outputs": [],
      "source": []
    }
  ],
  "metadata": {
    "colab": {
      "provenance": []
    },
    "kernelspec": {
      "display_name": "Python 3",
      "name": "python3"
    },
    "language_info": {
      "name": "python"
    }
  },
  "nbformat": 4,
  "nbformat_minor": 0
}
